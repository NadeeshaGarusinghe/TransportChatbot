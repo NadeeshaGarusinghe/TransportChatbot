{
  "nbformat": 4,
  "nbformat_minor": 0,
  "metadata": {
    "colab": {
      "name": "model_creation.ipynb",
      "provenance": []
    },
    "kernelspec": {
      "name": "python3",
      "display_name": "Python 3"
    }
  },
  "cells": [
    {
      "cell_type": "code",
      "metadata": {
        "id": "X5aqrvVlWJw2",
        "colab_type": "code",
        "outputId": "01abc7c5-85cd-45f1-af8f-33e0a787bed4",
        "colab": {
          "base_uri": "https://localhost:8080/",
          "height": 252
        }
      },
      "source": [
        "!pip3 install xgboost==1.0.2\n",
        "\n",
        "import nltk\n",
        "nltk.download('punkt')\n",
        "from nltk.stem.lancaster import LancasterStemmer\n",
        "stemmer = LancasterStemmer()\n",
        "nltk.download('stopwords')\n",
        "from nltk.corpus import stopwords\n",
        "import numpy as np\n",
        "#import tensorflow\n",
        "import random\n",
        "import json"
      ],
      "execution_count": 0,
      "outputs": [
        {
          "output_type": "stream",
          "text": [
            "Collecting xgboost==1.0.2\n",
            "\u001b[?25l  Downloading https://files.pythonhosted.org/packages/70/91/551d37ba472bcbd70a25e667acc65a18a9d053657b13afcf0f87aa24d7bb/xgboost-1.0.2-py3-none-manylinux1_x86_64.whl (109.7MB)\n",
            "\u001b[K     |████████████████████████████████| 109.8MB 90kB/s \n",
            "\u001b[?25hRequirement already satisfied: scipy in /usr/local/lib/python3.6/dist-packages (from xgboost==1.0.2) (1.4.1)\n",
            "Requirement already satisfied: numpy in /usr/local/lib/python3.6/dist-packages (from xgboost==1.0.2) (1.18.4)\n",
            "Installing collected packages: xgboost\n",
            "  Found existing installation: xgboost 0.90\n",
            "    Uninstalling xgboost-0.90:\n",
            "      Successfully uninstalled xgboost-0.90\n",
            "Successfully installed xgboost-1.0.2\n",
            "[nltk_data] Downloading package punkt to /root/nltk_data...\n",
            "[nltk_data]   Unzipping tokenizers/punkt.zip.\n",
            "[nltk_data] Downloading package stopwords to /root/nltk_data...\n",
            "[nltk_data]   Unzipping corpora/stopwords.zip.\n"
          ],
          "name": "stdout"
        }
      ]
    },
    {
      "cell_type": "code",
      "metadata": {
        "id": "if5XnOWwWn9x",
        "colab_type": "code",
        "outputId": "218d1d8f-d4fb-47f6-e178-91df1234017d",
        "colab": {
          "base_uri": "https://localhost:8080/",
          "height": 121
        }
      },
      "source": [
        "from google.colab import drive\n",
        "drive.mount('/content/drive')"
      ],
      "execution_count": 0,
      "outputs": [
        {
          "output_type": "stream",
          "text": [
            "Go to this URL in a browser: https://accounts.google.com/o/oauth2/auth?client_id=947318989803-6bn6qk8qdgf4n4g3pfee6491hc0brc4i.apps.googleusercontent.com&redirect_uri=urn%3aietf%3awg%3aoauth%3a2.0%3aoob&response_type=code&scope=email%20https%3a%2f%2fwww.googleapis.com%2fauth%2fdocs.test%20https%3a%2f%2fwww.googleapis.com%2fauth%2fdrive%20https%3a%2f%2fwww.googleapis.com%2fauth%2fdrive.photos.readonly%20https%3a%2f%2fwww.googleapis.com%2fauth%2fpeopleapi.readonly\n",
            "\n",
            "Enter your authorization code:\n",
            "··········\n",
            "Mounted at /content/drive\n"
          ],
          "name": "stdout"
        }
      ]
    },
    {
      "cell_type": "markdown",
      "metadata": {
        "id": "EFCuFNLvX9PV",
        "colab_type": "text"
      },
      "source": [
        "# Load Data set"
      ]
    },
    {
      "cell_type": "code",
      "metadata": {
        "id": "l3CyMzRgW1gA",
        "colab_type": "code",
        "outputId": "19fcd378-ab72-4685-8534-3b57e00e8986",
        "colab": {
          "base_uri": "https://localhost:8080/",
          "height": 34
        }
      },
      "source": [
        "%cd '/content/drive/My Drive/sem5_group_project/'\n",
        "with open(\"intents.json\") as file:\n",
        "  data=json.load(file)"
      ],
      "execution_count": 0,
      "outputs": [
        {
          "output_type": "stream",
          "text": [
            "/content/drive/My Drive/sem5_group_project\n"
          ],
          "name": "stdout"
        }
      ]
    },
    {
      "cell_type": "markdown",
      "metadata": {
        "id": "Z2GZ7L5_Zm_W",
        "colab_type": "text"
      },
      "source": [
        "# Data Pre Processing\n"
      ]
    },
    {
      "cell_type": "code",
      "metadata": {
        "id": "axsoO9ujZvLX",
        "colab_type": "code",
        "colab": {}
      },
      "source": [
        "texts = []\n",
        "tags = []\n",
        "for intent in data[\"intents\"]:\n",
        "  tag=intent[\"tag\"]\n",
        "  for pattern in intent[\"patterns\"]:\n",
        "    texts.append(pattern)\n",
        "    tags.append(tag)"
      ],
      "execution_count": 0,
      "outputs": []
    },
    {
      "cell_type": "code",
      "metadata": {
        "id": "aFR-XPCmZ5tM",
        "colab_type": "code",
        "colab": {}
      },
      "source": [
        "import re\n",
        "REPLACE_BY_SPACE_RE = re.compile('[/(){}\\[\\]\\|@,;]')\n",
        "BAD_SYMBOLS_RE = re.compile('[^0-9a-z #+_]')\n",
        "STOPWORDS = set(stopwords.words('english'))\n",
        "def text_prepare(text):\n",
        "    \"\"\"\n",
        "        text: a string\n",
        "        \n",
        "        return: modified initial string\n",
        "    \"\"\"\n",
        "    text = text.lower()# lowercase text\n",
        "    text = re.sub(REPLACE_BY_SPACE_RE, \" \", text)# replace REPLACE_BY_SPACE_RE symbols by space in text\n",
        "    text = re.sub(BAD_SYMBOLS_RE, \"\", text)# delete symbols which are in BAD_SYMBOLS_RE from text\n",
        "    text = \" \" + text + \" \"\n",
        "    for sw in STOPWORDS:\n",
        "        text = text.replace(\" \"+sw+\" \", \" \") # delete stopwords from text\n",
        "    text = re.sub('[ ][ ]+', \" \", text)\n",
        "    if len(text)>1:\n",
        "      if text[0] == ' ':\n",
        "          text = text[1:]\n",
        "      if text[-1] == ' ':\n",
        "          text = text[:-1]\n",
        "        \n",
        "    return text"
      ],
      "execution_count": 0,
      "outputs": []
    },
    {
      "cell_type": "code",
      "metadata": {
        "id": "0Kdr92Y_Z9Cp",
        "colab_type": "code",
        "colab": {}
      },
      "source": [
        "X_train = [text_prepare(text) for text in texts]\n",
        "y_train = [text_prepare(tag) for tag in tags]"
      ],
      "execution_count": 0,
      "outputs": []
    },
    {
      "cell_type": "code",
      "metadata": {
        "id": "DeiGlgqhaah3",
        "colab_type": "code",
        "colab": {}
      },
      "source": [
        "labels=sorted(set(y_train))"
      ],
      "execution_count": 0,
      "outputs": []
    },
    {
      "cell_type": "code",
      "metadata": {
        "id": "3FjbCHWPad9Y",
        "colab_type": "code",
        "colab": {}
      },
      "source": [
        "out_empty=[0 for _ in range(len(labels))]\n",
        "output=[]"
      ],
      "execution_count": 0,
      "outputs": []
    },
    {
      "cell_type": "code",
      "metadata": {
        "id": "iAghd7j7afOv",
        "colab_type": "code",
        "colab": {}
      },
      "source": [
        "for tag in y_train:\n",
        "  if tag==\"bus complaints\":\n",
        "    output.append([1,0,0,0,0,0,0,0,0,0,0,0])\n",
        "  if tag==\"bus fees\":\n",
        "    output.append([0,1,0,0,0,0,0,0,0,0,0,0])\n",
        "  if tag==\"bus ticket booking\":\n",
        "    output.append([0,0,1,0,0,0,0,0,0,0,0,0])\n",
        "  if tag==\"bus times\":\n",
        "    output.append([0,0,0,1,0,0,0,0,0,0,0,0])\n",
        "  if tag==\"distance places\":\n",
        "    output.append([0,0,0,0,1,0,0,0,0,0,0,0])  \n",
        "  if tag==\"greeting\":\n",
        "    output.append([0,0,0,0,0,1,0,0,0,0,0,0])\n",
        "  if tag==\"home page\":\n",
        "    output.append([0,0,0,0,0,0,1,0,0,0,0,0])\n",
        "  if tag==\"options\":\n",
        "    output.append([0,0,0,0,0,0,0,1,0,0,0,0])\n",
        "  if tag==\"train complaints\":\n",
        "    output.append([0,0,0,0,0,0,0,0,1,0,0,0])\n",
        "  if tag==\"train fees\":\n",
        "    output.append([0,0,0,0,0,0,0,0,0,1,0,0])\n",
        "  if tag==\"train ticket booking\":\n",
        "    output.append([0,0,0,0,0,0,0,0,0,0,1,0])\n",
        "  if tag==\"train times\":\n",
        "    output.append([0,0,0,0,0,0,0,0,0,0,0,1])"
      ],
      "execution_count": 0,
      "outputs": []
    },
    {
      "cell_type": "code",
      "metadata": {
        "id": "j9l579EFajS7",
        "colab_type": "code",
        "colab": {}
      },
      "source": [
        "from sklearn.feature_extraction.text import TfidfVectorizer\n",
        "import pandas as pd"
      ],
      "execution_count": 0,
      "outputs": []
    },
    {
      "cell_type": "code",
      "metadata": {
        "id": "60yLI8uCamyj",
        "colab_type": "code",
        "colab": {}
      },
      "source": [
        "tfidf_vectorizer = TfidfVectorizer(min_df=0,max_df =0.9,ngram_range=(1,2))    #max_df = 0.9 means \"It ignores terms that appear in more than 90% of the documents\".   min_df = 2 means \"ignore terms that appear in less than 2 documents\".\n",
        "tfidf_vectorizer.fit(X_train)\n",
        "X_train = tfidf_vectorizer.transform(X_train)"
      ],
      "execution_count": 0,
      "outputs": []
    },
    {
      "cell_type": "code",
      "metadata": {
        "id": "JkYWWkW9aqAi",
        "colab_type": "code",
        "colab": {}
      },
      "source": [
        "import pickle\n",
        "with open('/content/drive/My Drive/sem5_group_project/vectorizer.pk', 'wb') as fin:\n",
        "  pickle.dump(tfidf_vectorizer, fin)"
      ],
      "execution_count": 0,
      "outputs": []
    },
    {
      "cell_type": "code",
      "metadata": {
        "id": "l205UcjWauiT",
        "colab_type": "code",
        "colab": {}
      },
      "source": [
        "vectorizer_sadil = pickle.load( open( \"/content/drive/My Drive/sem5_group_project/vectorizer.pk\", \"rb\" ) )"
      ],
      "execution_count": 0,
      "outputs": []
    },
    {
      "cell_type": "code",
      "metadata": {
        "id": "0Y2QWjtTayI0",
        "colab_type": "code",
        "outputId": "d0f07d78-7e5e-401d-a290-040a899d60be",
        "colab": {
          "base_uri": "https://localhost:8080/",
          "height": 34
        }
      },
      "source": [
        "X_train.shape"
      ],
      "execution_count": 0,
      "outputs": [
        {
          "output_type": "execute_result",
          "data": {
            "text/plain": [
              "(254, 385)"
            ]
          },
          "metadata": {
            "tags": []
          },
          "execution_count": 14
        }
      ]
    },
    {
      "cell_type": "markdown",
      "metadata": {
        "id": "wt7rmCrebp9a",
        "colab_type": "text"
      },
      "source": [
        "# Model creation\n"
      ]
    },
    {
      "cell_type": "code",
      "metadata": {
        "id": "_urjMaqUa3Hd",
        "colab_type": "code",
        "outputId": "9f47f1d1-3753-4d36-bf60-37f6ceb34e7e",
        "colab": {
          "base_uri": "https://localhost:8080/",
          "height": 168
        }
      },
      "source": [
        "from xgboost import XGBClassifier\n",
        "model=XGBClassifier()\n",
        "model.fit(X_train,y_train)"
      ],
      "execution_count": 0,
      "outputs": [
        {
          "output_type": "execute_result",
          "data": {
            "text/plain": [
              "XGBClassifier(base_score=0.5, booster=None, colsample_bylevel=1,\n",
              "              colsample_bynode=1, colsample_bytree=1, gamma=0, gpu_id=-1,\n",
              "              importance_type='gain', interaction_constraints=None,\n",
              "              learning_rate=0.300000012, max_delta_step=0, max_depth=6,\n",
              "              min_child_weight=1, missing=nan, monotone_constraints=None,\n",
              "              n_estimators=100, n_jobs=0, num_parallel_tree=1,\n",
              "              objective='multi:softprob', random_state=0, reg_alpha=0,\n",
              "              reg_lambda=1, scale_pos_weight=None, subsample=1,\n",
              "              tree_method=None, validate_parameters=False, verbosity=None)"
            ]
          },
          "metadata": {
            "tags": []
          },
          "execution_count": 15
        }
      ]
    },
    {
      "cell_type": "code",
      "metadata": {
        "id": "MFWOGeDrvFN_",
        "colab_type": "code",
        "colab": {}
      },
      "source": [
        "model.save_model('xgboost_model.json')"
      ],
      "execution_count": 0,
      "outputs": []
    },
    {
      "cell_type": "code",
      "metadata": {
        "id": "j0lSYdqqIa-5",
        "colab_type": "code",
        "colab": {}
      },
      "source": [
        "import xgboost.sklearn"
      ],
      "execution_count": 0,
      "outputs": []
    },
    {
      "cell_type": "code",
      "metadata": {
        "id": "VKYANCq0Ftat",
        "colab_type": "code",
        "colab": {}
      },
      "source": [
        "x=\"what you can do for me\"\n",
        "\n",
        "X = [text_prepare(x)] \n",
        "y=vectorizer_sadil.transform(X)"
      ],
      "execution_count": 0,
      "outputs": []
    },
    {
      "cell_type": "code",
      "metadata": {
        "id": "iG3zdQDCFpM1",
        "colab_type": "code",
        "colab": {}
      },
      "source": [
        "#y_pred = model.predict_proba(y)\n",
        "probability = model.predict_proba(y)"
      ],
      "execution_count": 0,
      "outputs": []
    },
    {
      "cell_type": "code",
      "metadata": {
        "id": "g888Pujmz75M",
        "colab_type": "code",
        "outputId": "28c2c580-de6f-4dc2-d416-9dec47c31f07",
        "colab": {
          "base_uri": "https://localhost:8080/",
          "height": 67
        }
      },
      "source": [
        "probability"
      ],
      "execution_count": 0,
      "outputs": [
        {
          "output_type": "execute_result",
          "data": {
            "text/plain": [
              "array([[0.03396508, 0.00184387, 0.00199562, 0.05493705, 0.06647961,\n",
              "        0.16432701, 0.32244787, 0.21453613, 0.12899993, 0.00188209,\n",
              "        0.00232807, 0.00625768]], dtype=float32)"
            ]
          },
          "metadata": {
            "tags": []
          },
          "execution_count": 20
        }
      ]
    },
    {
      "cell_type": "code",
      "metadata": {
        "id": "zqaThX7bf9F4",
        "colab_type": "code",
        "outputId": "c8119702-2eba-4930-8f14-d0704cf6435c",
        "colab": {
          "base_uri": "https://localhost:8080/",
          "height": 34
        }
      },
      "source": [
        "if (max(p[0])>0.5):\n",
        "  result = np.where(p[0] == max(p[0]))\n",
        "  print (result)\n",
        "  print (result[0][0])\n",
        "  print (labels[result[0][0]])\n",
        "else:\n",
        "  print (\"sorry! I cannot understand you:(\")"
      ],
      "execution_count": 0,
      "outputs": [
        {
          "output_type": "stream",
          "text": [
            "sorry! I cannot understand you:(\n"
          ],
          "name": "stdout"
        }
      ]
    }
  ]
}