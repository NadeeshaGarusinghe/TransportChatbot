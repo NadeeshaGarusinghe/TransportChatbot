{
  "nbformat": 4,
  "nbformat_minor": 0,
  "metadata": {
    "colab": {
      "name": "test_model.ipynb",
      "provenance": [],
      "collapsed_sections": []
    },
    "kernelspec": {
      "name": "python3",
      "display_name": "Python 3"
    }
  },
  "cells": [
    {
      "cell_type": "code",
      "metadata": {
        "id": "biq3nX74PeJO",
        "colab_type": "code",
        "outputId": "681ed6d9-56a5-4205-840e-e56c2b3e3e68",
        "colab": {
          "base_uri": "https://localhost:8080/",
          "height": 34
        }
      },
      "source": [
        "from google.colab import drive\n",
        "drive.mount('/content/drive')"
      ],
      "execution_count": 1,
      "outputs": [
        {
          "output_type": "stream",
          "text": [
            "Drive already mounted at /content/drive; to attempt to forcibly remount, call drive.mount(\"/content/drive\", force_remount=True).\n"
          ],
          "name": "stdout"
        }
      ]
    },
    {
      "cell_type": "code",
      "metadata": {
        "id": "QQdEWT2iPurI",
        "colab_type": "code",
        "colab": {}
      },
      "source": [
        "from sklearn.metrics import f1_score, confusion_matrix, accuracy_score,classification_report"
      ],
      "execution_count": 0,
      "outputs": []
    },
    {
      "cell_type": "code",
      "metadata": {
        "id": "vCKJNX_pPAIr",
        "colab_type": "code",
        "colab": {}
      },
      "source": [
        "predicted_results=[0, 0, 3, 0, 0, 1, 1, 1, 1, 1, 2, 2, 2, 2, 2, 3, 3, 7, 3, 3, 4, 7, 4, 4, 4, 5, 5, 7, 5, 7, 6, 6, 6, 6, 3, 7, 7, 7, 7, 7, 8, 8, 8, 8, 8, 9, 9, 9, 8, 9, 10, 10, 10, 10, 10, 11, 11, 11, 11, 11]"
      ],
      "execution_count": 0,
      "outputs": []
    },
    {
      "cell_type": "code",
      "metadata": {
        "id": "Nj1Li0niPG2a",
        "colab_type": "code",
        "colab": {}
      },
      "source": [
        "expected_results=[0,0,0,0,0,1,1,1,1,1,2,2,2,2,2,3,3,3,3,3,4,4,4,4,4,5,5,5,5,5,6,6,6,6,6,7,7,7,7,7,8,8,8,8,8,9,9,9,9,9,10,10,10,10,10,11,11,11,11,11]"
      ],
      "execution_count": 0,
      "outputs": []
    },
    {
      "cell_type": "code",
      "metadata": {
        "id": "PJ_h_7j4Z_iS",
        "colab_type": "code",
        "outputId": "58cc530f-fbfe-42ad-94c4-2cdd85174b8c",
        "colab": {
          "base_uri": "https://localhost:8080/",
          "height": 218
        }
      },
      "source": [
        "confusion_matrix(expected_results,predicted_results)"
      ],
      "execution_count": 7,
      "outputs": [
        {
          "output_type": "execute_result",
          "data": {
            "text/plain": [
              "array([[4, 0, 0, 1, 0, 0, 0, 0, 0, 0, 0, 0],\n",
              "       [0, 5, 0, 0, 0, 0, 0, 0, 0, 0, 0, 0],\n",
              "       [0, 0, 5, 0, 0, 0, 0, 0, 0, 0, 0, 0],\n",
              "       [0, 0, 0, 4, 0, 0, 0, 1, 0, 0, 0, 0],\n",
              "       [0, 0, 0, 0, 4, 0, 0, 1, 0, 0, 0, 0],\n",
              "       [0, 0, 0, 0, 0, 3, 0, 2, 0, 0, 0, 0],\n",
              "       [0, 0, 0, 1, 0, 0, 4, 0, 0, 0, 0, 0],\n",
              "       [0, 0, 0, 0, 0, 0, 0, 5, 0, 0, 0, 0],\n",
              "       [0, 0, 0, 0, 0, 0, 0, 0, 5, 0, 0, 0],\n",
              "       [0, 0, 0, 0, 0, 0, 0, 0, 1, 4, 0, 0],\n",
              "       [0, 0, 0, 0, 0, 0, 0, 0, 0, 0, 5, 0],\n",
              "       [0, 0, 0, 0, 0, 0, 0, 0, 0, 0, 0, 5]])"
            ]
          },
          "metadata": {
            "tags": []
          },
          "execution_count": 7
        }
      ]
    },
    {
      "cell_type": "code",
      "metadata": {
        "id": "cBm8DWZdekYF",
        "colab_type": "code",
        "colab": {
          "base_uri": "https://localhost:8080/",
          "height": 353
        },
        "outputId": "d91d0ce1-12c1-497c-8f8e-566c754fdcdb"
      },
      "source": [
        "print(classification_report(expected_results,predicted_results))\n",
        "print(accuracy_score(expected_results,predicted_results))"
      ],
      "execution_count": 8,
      "outputs": [
        {
          "output_type": "stream",
          "text": [
            "              precision    recall  f1-score   support\n",
            "\n",
            "           0       1.00      0.80      0.89         5\n",
            "           1       1.00      1.00      1.00         5\n",
            "           2       1.00      1.00      1.00         5\n",
            "           3       0.67      0.80      0.73         5\n",
            "           4       1.00      0.80      0.89         5\n",
            "           5       1.00      0.60      0.75         5\n",
            "           6       1.00      0.80      0.89         5\n",
            "           7       0.56      1.00      0.71         5\n",
            "           8       0.83      1.00      0.91         5\n",
            "           9       1.00      0.80      0.89         5\n",
            "          10       1.00      1.00      1.00         5\n",
            "          11       1.00      1.00      1.00         5\n",
            "\n",
            "    accuracy                           0.88        60\n",
            "   macro avg       0.92      0.88      0.89        60\n",
            "weighted avg       0.92      0.88      0.89        60\n",
            "\n",
            "0.8833333333333333\n"
          ],
          "name": "stdout"
        }
      ]
    }
  ]
}